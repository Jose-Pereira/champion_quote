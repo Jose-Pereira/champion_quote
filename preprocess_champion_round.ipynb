{
 "cells": [
  {
   "cell_type": "code",
   "execution_count": 2,
   "metadata": {},
   "outputs": [],
   "source": [
    "import json\n",
    "import pandas as pd\n",
    "import sys\n"
   ]
  },
  {
   "cell_type": "code",
   "execution_count": 3,
   "metadata": {},
   "outputs": [
    {
     "data": {
      "text/html": [
       "<div>\n",
       "<style scoped>\n",
       "    .dataframe tbody tr th:only-of-type {\n",
       "        vertical-align: middle;\n",
       "    }\n",
       "\n",
       "    .dataframe tbody tr th {\n",
       "        vertical-align: top;\n",
       "    }\n",
       "\n",
       "    .dataframe thead th {\n",
       "        text-align: right;\n",
       "    }\n",
       "</style>\n",
       "<table border=\"1\" class=\"dataframe\">\n",
       "  <thead>\n",
       "    <tr style=\"text-align: right;\">\n",
       "      <th></th>\n",
       "      <th>bookTitle</th>\n",
       "      <th>highlight</th>\n",
       "      <th>rating</th>\n",
       "    </tr>\n",
       "  </thead>\n",
       "  <tbody>\n",
       "    <tr>\n",
       "      <th>0</th>\n",
       "      <td>This Is How It Always Is</td>\n",
       "      <td>“Because you know what’s even better than happ...</td>\n",
       "      <td>3</td>\n",
       "    </tr>\n",
       "    <tr>\n",
       "      <th>1</th>\n",
       "      <td>This Is How It Always Is</td>\n",
       "      <td>Making peace was better than living in fear.</td>\n",
       "      <td>3</td>\n",
       "    </tr>\n",
       "    <tr>\n",
       "      <th>2</th>\n",
       "      <td>Quiet</td>\n",
       "      <td>Participants in brainstorming sessions usually...</td>\n",
       "      <td>2</td>\n",
       "    </tr>\n",
       "    <tr>\n",
       "      <th>3</th>\n",
       "      <td>The Bookish Life of Nina Hill</td>\n",
       "      <td>“That is both the lamest and the nerdiest excu...</td>\n",
       "      <td>3</td>\n",
       "    </tr>\n",
       "    <tr>\n",
       "      <th>4</th>\n",
       "      <td>The Bookish Life of Nina Hill</td>\n",
       "      <td>None of them were very thrilled to hear about ...</td>\n",
       "      <td>1</td>\n",
       "    </tr>\n",
       "  </tbody>\n",
       "</table>\n",
       "</div>"
      ],
      "text/plain": [
       "                       bookTitle  \\\n",
       "0       This Is How It Always Is   \n",
       "1       This Is How It Always Is   \n",
       "2                          Quiet   \n",
       "3  The Bookish Life of Nina Hill   \n",
       "4  The Bookish Life of Nina Hill   \n",
       "\n",
       "                                           highlight  rating  \n",
       "0  “Because you know what’s even better than happ...       3  \n",
       "1       Making peace was better than living in fear.       3  \n",
       "2  Participants in brainstorming sessions usually...       2  \n",
       "3  “That is both the lamest and the nerdiest excu...       3  \n",
       "4  None of them were very thrilled to hear about ...       1  "
      ]
     },
     "execution_count": 3,
     "metadata": {},
     "output_type": "execute_result"
    }
   ],
   "source": [
    "#read quote_ratings.json\n",
    "with open('quote_ratings.json') as f:\n",
    "    data = json.load(f)\n",
    "#format it as a pandas dataframe\n",
    "df = pd.DataFrame(data)\n",
    "df.head()\n"
   ]
  },
  {
   "cell_type": "code",
   "execution_count": 4,
   "metadata": {},
   "outputs": [
    {
     "name": "stdout",
     "output_type": "stream",
     "text": [
      "                       bookTitle  quote_count  three_star_count  \\\n",
      "4           Fierce Conversations           38                26   \n",
      "2  The Bookish Life of Nina Hill           51                30   \n",
      "3       This Is How It Always Is           49                28   \n",
      "0                     No Worries           88                41   \n",
      "1                          Quiet           80                27   \n",
      "\n",
      "   three_star_percent  \n",
      "4           68.421053  \n",
      "2           58.823529  \n",
      "3           57.142857  \n",
      "0           46.590909  \n",
      "1           33.750000  \n"
     ]
    }
   ],
   "source": [
    "#get a count of quotes by bookTitle\n",
    "quote_count = df.groupby('bookTitle').size().reset_index(name='quote_count')\n",
    "quote_count = quote_count.sort_values('quote_count', ascending=False)\n",
    "#get how many quotes are rated 3 stars\n",
    "three_star_quotes = df[df['rating'] == 3]\n",
    "three_star_count = three_star_quotes.groupby('bookTitle').size().reset_index(name='three_star_count')\n",
    "three_star_count = three_star_count.sort_values('three_star_count', ascending=False)\n",
    "#merge the two dataframes\n",
    "merged = pd.merge(quote_count, three_star_count, on='bookTitle', how='left')\n",
    "merged = merged.fillna(0)\n",
    "merged['three_star_count'] = merged['three_star_count'].astype(int)\n",
    "merged['three_star_percent'] = (merged['three_star_count'] / merged['quote_count']) * 100\n",
    "merged = merged.sort_values('three_star_percent', ascending=False)\n",
    "print(merged)"
   ]
  },
  {
   "cell_type": "code",
   "execution_count": 5,
   "metadata": {},
   "outputs": [],
   "source": [
    "#sum how many quotes have 3 stars\n",
    "total_three_star = merged['three_star_count'].sum() \n",
    "total_three_star\n",
    "#store the quotes with 3 stars in a json file named 3_star_quotes.json\n",
    "three_star_quotes = three_star_quotes.to_dict('records')\n",
    "with open('3_star_quotes.json', 'w') as f:\n",
    "    json.dump(three_star_quotes, f)\n"
   ]
  },
  {
   "cell_type": "code",
   "execution_count": 6,
   "metadata": {},
   "outputs": [],
   "source": [
    "#create an md file that stores the table named merged.md\n",
    "with open('merged.md', 'w') as f:\n",
    "    f.write(merged.to_markdown())\n",
    "    \n"
   ]
  }
 ],
 "metadata": {
  "kernelspec": {
   "display_name": "pricesmart",
   "language": "python",
   "name": "python3"
  },
  "language_info": {
   "codemirror_mode": {
    "name": "ipython",
    "version": 3
   },
   "file_extension": ".py",
   "mimetype": "text/x-python",
   "name": "python",
   "nbconvert_exporter": "python",
   "pygments_lexer": "ipython3",
   "version": "3.9.18"
  }
 },
 "nbformat": 4,
 "nbformat_minor": 2
}
